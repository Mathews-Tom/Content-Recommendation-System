{
 "cells": [
  {
   "cell_type": "code",
   "execution_count": 1,
   "metadata": {
    "id": "NooTDdZOTDbC"
   },
   "outputs": [
    {
     "name": "stdout",
     "output_type": "stream",
     "text": [
      "time: 680 ms (started: 2022-11-12 01:44:08 +05:30)\n"
     ]
    }
   ],
   "source": [
    "%load_ext autotime\n",
    "\n",
    "import numpy as np\n",
    "import random\n",
    "import pandas as pd\n",
    "\n",
    "from sklearn.feature_extraction.text import TfidfVectorizer\n",
    "from sklearn.metrics.pairwise import linear_kernel \n",
    "\n",
    "from surprise import NormalPredictor, SVD, KNNBasic, NMF\n",
    "from surprise import Dataset, Reader\n",
    "from surprise import accuracy\n",
    "from surprise.model_selection import cross_validate, KFold\n",
    "\n",
    "from tqdm import tqdm"
   ]
  },
  {
   "cell_type": "markdown",
   "metadata": {
    "id": "gjDT2A50TDbG"
   },
   "source": [
    "## 1. Introduction\n",
    "Recommender systems goal is to push *relevant* items to a given user. Understanding and modelling the user's preferences is required to reach this goal. In this project you will learn how to model the user's preferences with the [Surprise library](http://surpriselib.com/) to build different recommender systems. The first one will be a pure *collaborative filtering* approach, and the second one will rely on item attributes in a *content-based* way."
   ]
  },
  {
   "cell_type": "markdown",
   "metadata": {
    "id": "36Z7GcLfTDbG"
   },
   "source": [
    "## 2. Loading Data\n"
   ]
  },
  {
   "cell_type": "code",
   "execution_count": 2,
   "metadata": {
    "id": "zmPTqb_FTDbH"
   },
   "outputs": [
    {
     "name": "stdout",
     "output_type": "stream",
     "text": [
      "time: 144 µs (started: 2022-11-12 01:44:09 +05:30)\n"
     ]
    }
   ],
   "source": [
    "RATINGS_DATA_FILE = './goodbooks-10k/ratings.csv'\n",
    "BOOKS_DATA_FILE = './goodbooks-10k/books.csv'"
   ]
  },
  {
   "cell_type": "code",
   "execution_count": 3,
   "metadata": {
    "id": "hnB855KRTDbJ"
   },
   "outputs": [
    {
     "name": "stdout",
     "output_type": "stream",
     "text": [
      "time: 102 ms (started: 2022-11-12 01:44:09 +05:30)\n"
     ]
    }
   ],
   "source": [
    "# load the raw csv into a data_frame\n",
    "df_ratings = pd.read_csv(RATINGS_DATA_FILE)\n",
    "\n",
    "\n",
    "# movies dataframe\n",
    "df_books = pd.read_csv(BOOKS_DATA_FILE)"
   ]
  },
  {
   "cell_type": "code",
   "execution_count": 4,
   "metadata": {},
   "outputs": [
    {
     "data": {
      "text/html": [
       "<div>\n",
       "<style scoped>\n",
       "    .dataframe tbody tr th:only-of-type {\n",
       "        vertical-align: middle;\n",
       "    }\n",
       "\n",
       "    .dataframe tbody tr th {\n",
       "        vertical-align: top;\n",
       "    }\n",
       "\n",
       "    .dataframe thead th {\n",
       "        text-align: right;\n",
       "    }\n",
       "</style>\n",
       "<table border=\"1\" class=\"dataframe\">\n",
       "  <thead>\n",
       "    <tr style=\"text-align: right;\">\n",
       "      <th></th>\n",
       "      <th>book_id</th>\n",
       "      <th>user_id</th>\n",
       "      <th>rating</th>\n",
       "    </tr>\n",
       "  </thead>\n",
       "  <tbody>\n",
       "    <tr>\n",
       "      <th>0</th>\n",
       "      <td>1</td>\n",
       "      <td>314</td>\n",
       "      <td>5</td>\n",
       "    </tr>\n",
       "    <tr>\n",
       "      <th>1</th>\n",
       "      <td>1</td>\n",
       "      <td>439</td>\n",
       "      <td>3</td>\n",
       "    </tr>\n",
       "    <tr>\n",
       "      <th>2</th>\n",
       "      <td>1</td>\n",
       "      <td>588</td>\n",
       "      <td>5</td>\n",
       "    </tr>\n",
       "    <tr>\n",
       "      <th>3</th>\n",
       "      <td>1</td>\n",
       "      <td>1169</td>\n",
       "      <td>4</td>\n",
       "    </tr>\n",
       "    <tr>\n",
       "      <th>4</th>\n",
       "      <td>1</td>\n",
       "      <td>1185</td>\n",
       "      <td>4</td>\n",
       "    </tr>\n",
       "  </tbody>\n",
       "</table>\n",
       "</div>"
      ],
      "text/plain": [
       "   book_id  user_id  rating\n",
       "0        1      314       5\n",
       "1        1      439       3\n",
       "2        1      588       5\n",
       "3        1     1169       4\n",
       "4        1     1185       4"
      ]
     },
     "execution_count": 4,
     "metadata": {},
     "output_type": "execute_result"
    },
    {
     "name": "stdout",
     "output_type": "stream",
     "text": [
      "time: 5.77 ms (started: 2022-11-12 01:44:09 +05:30)\n"
     ]
    }
   ],
   "source": [
    "df_ratings.head()"
   ]
  },
  {
   "cell_type": "code",
   "execution_count": 5,
   "metadata": {
    "id": "jVJsMrEuTDbM",
    "outputId": "918bab06-8b34-4378-ed40-b85a516a92de"
   },
   "outputs": [
    {
     "data": {
      "text/plain": [
       "981756"
      ]
     },
     "execution_count": 5,
     "metadata": {},
     "output_type": "execute_result"
    },
    {
     "name": "stdout",
     "output_type": "stream",
     "text": [
      "time: 1.96 ms (started: 2022-11-12 01:44:09 +05:30)\n"
     ]
    }
   ],
   "source": [
    "# check we have 25M users' ratings\n",
    "df_ratings.user_id.count()"
   ]
  },
  {
   "cell_type": "code",
   "execution_count": 6,
   "metadata": {
    "id": "fwjp-MU-TDbQ"
   },
   "outputs": [
    {
     "name": "stdout",
     "output_type": "stream",
     "text": [
      "time: 16.3 ms (started: 2022-11-12 01:44:09 +05:30)\n"
     ]
    }
   ],
   "source": [
    "def get_subset(df, number):\n",
    "    \"\"\"\n",
    "    Get a subset of a large dataset for debug purpose.\n",
    "    \"\"\"\n",
    "    rids = np.arange(df.shape[0])\n",
    "    np.random.shuffle(rids)\n",
    "    df_subset = df.iloc[rids[:number], :].copy()\n",
    "    return df_subset\n",
    "\n",
    "df_ratings_100k = get_subset(df_ratings, 100000)\n",
    "df_books_1000 = get_subset(df_books, 1000)"
   ]
  },
  {
   "cell_type": "code",
   "execution_count": 7,
   "metadata": {
    "id": "EAWC1dx9TDbS"
   },
   "outputs": [
    {
     "name": "stdout",
     "output_type": "stream",
     "text": [
      "time: 32.4 ms (started: 2022-11-12 01:44:09 +05:30)\n"
     ]
    }
   ],
   "source": [
    "# Surprise reader\n",
    "reader = Reader(rating_scale=(0, 5))\n",
    "\n",
    "# Finally load all ratings\n",
    "ratings = Dataset.load_from_df(df_ratings_100k, reader)"
   ]
  },
  {
   "cell_type": "code",
   "execution_count": 8,
   "metadata": {},
   "outputs": [
    {
     "data": {
      "text/html": [
       "<div>\n",
       "<style scoped>\n",
       "    .dataframe tbody tr th:only-of-type {\n",
       "        vertical-align: middle;\n",
       "    }\n",
       "\n",
       "    .dataframe tbody tr th {\n",
       "        vertical-align: top;\n",
       "    }\n",
       "\n",
       "    .dataframe thead th {\n",
       "        text-align: right;\n",
       "    }\n",
       "</style>\n",
       "<table border=\"1\" class=\"dataframe\">\n",
       "  <thead>\n",
       "    <tr style=\"text-align: right;\">\n",
       "      <th></th>\n",
       "      <th>book_id</th>\n",
       "      <th>user_id</th>\n",
       "      <th>rating</th>\n",
       "    </tr>\n",
       "  </thead>\n",
       "  <tbody>\n",
       "    <tr>\n",
       "      <th>758792</th>\n",
       "      <td>7644</td>\n",
       "      <td>25278</td>\n",
       "      <td>5</td>\n",
       "    </tr>\n",
       "    <tr>\n",
       "      <th>953484</th>\n",
       "      <td>9693</td>\n",
       "      <td>22902</td>\n",
       "      <td>4</td>\n",
       "    </tr>\n",
       "    <tr>\n",
       "      <th>58538</th>\n",
       "      <td>586</td>\n",
       "      <td>13000</td>\n",
       "      <td>4</td>\n",
       "    </tr>\n",
       "    <tr>\n",
       "      <th>752743</th>\n",
       "      <td>7582</td>\n",
       "      <td>28653</td>\n",
       "      <td>3</td>\n",
       "    </tr>\n",
       "    <tr>\n",
       "      <th>400689</th>\n",
       "      <td>4013</td>\n",
       "      <td>10724</td>\n",
       "      <td>1</td>\n",
       "    </tr>\n",
       "  </tbody>\n",
       "</table>\n",
       "</div>"
      ],
      "text/plain": [
       "        book_id  user_id  rating\n",
       "758792     7644    25278       5\n",
       "953484     9693    22902       4\n",
       "58538       586    13000       4\n",
       "752743     7582    28653       3\n",
       "400689     4013    10724       1"
      ]
     },
     "execution_count": 8,
     "metadata": {},
     "output_type": "execute_result"
    },
    {
     "name": "stdout",
     "output_type": "stream",
     "text": [
      "time: 1.91 ms (started: 2022-11-12 01:44:09 +05:30)\n"
     ]
    }
   ],
   "source": [
    "df_ratings_100k.head(5)"
   ]
  },
  {
   "cell_type": "markdown",
   "metadata": {
    "id": "FraqKt7hTDbU"
   },
   "source": [
    "## 3. Collaborative Filtering\n",
    "We can test first any of the [Surprise algorithms](https://surprise.readthedocs.io/en/stable/prediction_algorithms_package.html)."
   ]
  },
  {
   "cell_type": "code",
   "execution_count": 9,
   "metadata": {
    "id": "2QQASBfcTDbV"
   },
   "outputs": [
    {
     "name": "stdout",
     "output_type": "stream",
     "text": [
      "time: 193 µs (started: 2022-11-12 01:44:09 +05:30)\n"
     ]
    }
   ],
   "source": [
    "# define a cross-validation iterator\n",
    "kf = KFold(n_splits=3)\n",
    "\n",
    "algos = [SVD(), NMF(), KNNBasic()]    "
   ]
  },
  {
   "cell_type": "code",
   "execution_count": 10,
   "metadata": {
    "id": "vkUTsvHgTDbX",
    "outputId": "1b26bff2-a89a-423e-f5a8-6170e2c557eb"
   },
   "outputs": [
    {
     "name": "stderr",
     "output_type": "stream",
     "text": [
      "\r",
      "0it [00:00, ?it/s]"
     ]
    },
    {
     "name": "stdout",
     "output_type": "stream",
     "text": [
      "RMSE: 0.9298\n"
     ]
    },
    {
     "name": "stderr",
     "output_type": "stream",
     "text": [
      "\r",
      "1it [00:03,  3.25s/it]"
     ]
    },
    {
     "name": "stdout",
     "output_type": "stream",
     "text": [
      "RMSE: 1.0952\n",
      "Computing the msd similarity matrix...\n",
      "Done computing similarity matrix.\n",
      "RMSE: 0.9910\n",
      "RMSE: 0.9337\n",
      "RMSE: 1.1031\n",
      "Computing the msd similarity matrix...\n",
      "Done computing similarity matrix.\n"
     ]
    },
    {
     "name": "stderr",
     "output_type": "stream",
     "text": [
      "\r",
      "2it [00:06,  3.39s/it]"
     ]
    },
    {
     "name": "stdout",
     "output_type": "stream",
     "text": [
      "RMSE: 0.9959\n",
      "RMSE: 0.9280\n",
      "RMSE: 1.1075\n",
      "Computing the msd similarity matrix...\n"
     ]
    },
    {
     "name": "stderr",
     "output_type": "stream",
     "text": [
      "3it [00:10,  3.38s/it]"
     ]
    },
    {
     "name": "stdout",
     "output_type": "stream",
     "text": [
      "Done computing similarity matrix.\n",
      "RMSE: 0.9915\n",
      "time: 10.1 s (started: 2022-11-12 01:44:09 +05:30)\n"
     ]
    },
    {
     "name": "stderr",
     "output_type": "stream",
     "text": [
      "\n"
     ]
    }
   ],
   "source": [
    "def get_rmse(algo, testset):\n",
    "        predictions = algo.test(testset)\n",
    "        accuracy.rmse(predictions, verbose=True)\n",
    "        \n",
    "for trainset, testset in tqdm(kf.split(ratings)): \n",
    "    \"\"\"\n",
    "        get an evaluation with cross-validation for different algorithms\n",
    "    \"\"\"  \n",
    "    for algo in algos:\n",
    "        algo.fit(trainset)\n",
    "        get_rmse(algo, testset)"
   ]
  },
  {
   "cell_type": "markdown",
   "metadata": {
    "id": "-Dom6XI9TDbZ"
   },
   "source": [
    "## 4. Content-based Filtering\n",
    "Here we will rely directly on items attributes. First we have to describe a user profile with an attributes vector. Then we will use these vectors to generate recommendations."
   ]
  },
  {
   "cell_type": "code",
   "execution_count": 11,
   "metadata": {
    "id": "qinBp3urTDba",
    "outputId": "9ca29271-3a19-4884-ec98-45c9ef7e1a15"
   },
   "outputs": [
    {
     "name": "stdout",
     "output_type": "stream",
     "text": [
      "time: 2.86 ms (started: 2022-11-12 01:44:19 +05:30)\n"
     ]
    }
   ],
   "source": [
    "# computing similarities requires too much ressources on the whole dataset, so we take the subset with 100 items\n",
    "df_books_1000 = df_books_1000.reset_index(drop=True)\n",
    "df_books_1000.head(5)\n",
    "df_books_1000 = df_books_1000.dropna()\n",
    "df_books_1000 = df_books_1000.reset_index(drop=True)"
   ]
  },
  {
   "cell_type": "code",
   "execution_count": 12,
   "metadata": {
    "id": "erSkCS9dTDbc"
   },
   "outputs": [
    {
     "name": "stdout",
     "output_type": "stream",
     "text": [
      "time: 7.11 ms (started: 2022-11-12 01:44:19 +05:30)\n"
     ]
    }
   ],
   "source": [
    "# we compute a TFIDF on the titles of the movies\n",
    "tf = TfidfVectorizer(analyzer='word', ngram_range=(1, 3), min_df=0, stop_words='english')\n",
    "tfidf_matrix = tf.fit_transform(df_books_1000['original_title'])"
   ]
  },
  {
   "cell_type": "code",
   "execution_count": 13,
   "metadata": {
    "id": "89bo1QRJTDbe"
   },
   "outputs": [
    {
     "name": "stdout",
     "output_type": "stream",
     "text": [
      "time: 1.31 ms (started: 2022-11-12 01:44:19 +05:30)\n"
     ]
    }
   ],
   "source": [
    "# we get cosine similarities: this takes a lot of time on the real dataset\n",
    "cosine_similarities = linear_kernel(tfidf_matrix, tfidf_matrix)"
   ]
  },
  {
   "cell_type": "code",
   "execution_count": 14,
   "metadata": {
    "id": "JBfSq_MXTDbh"
   },
   "outputs": [
    {
     "name": "stdout",
     "output_type": "stream",
     "text": [
      "time: 1.05 s (started: 2022-11-12 01:44:19 +05:30)\n"
     ]
    }
   ],
   "source": [
    "# we generate in 'results' the most similar movies for each movie: we put a pair (score, movie_id)\n",
    "results = {}\n",
    "for idx, row in df_books_1000.iterrows():\n",
    "    similar_indices = cosine_similarities[idx].argsort()[:-100:-1] \n",
    "    similar_items = [(cosine_similarities[idx][i], df_books_1000['book_id'].iloc[[i]].tolist()[0]) for i in similar_indices] \n",
    "    results[idx] = similar_items[1:]"
   ]
  },
  {
   "cell_type": "code",
   "execution_count": 15,
   "metadata": {
    "id": "dx1NXKXDTDbl"
   },
   "outputs": [
    {
     "name": "stdout",
     "output_type": "stream",
     "text": [
      "time: 191 µs (started: 2022-11-12 01:44:20 +05:30)\n"
     ]
    }
   ],
   "source": [
    "# transform a 'movieId' into its corresponding movie title\n",
    "def item(id):  \n",
    "    return df_books_1000.loc[df_books_1000['book_id'] == id]['original_title'].tolist()[0].split(' - ')[0] "
   ]
  },
  {
   "cell_type": "code",
   "execution_count": 16,
   "metadata": {
    "id": "S9-fOls1TDbn"
   },
   "outputs": [
    {
     "name": "stdout",
     "output_type": "stream",
     "text": [
      "time: 179 µs (started: 2022-11-12 01:44:20 +05:30)\n"
     ]
    }
   ],
   "source": [
    "# transform a 'movieId' into the index id\n",
    "def get_idx(id):\n",
    "    return df_books_1000[df_books_1000['book_id'] == id].index.tolist()[0]"
   ]
  },
  {
   "cell_type": "code",
   "execution_count": 17,
   "metadata": {
    "id": "8_WRVRXUTDbp"
   },
   "outputs": [
    {
     "name": "stdout",
     "output_type": "stream",
     "text": [
      "time: 275 µs (started: 2022-11-12 01:44:20 +05:30)\n"
     ]
    }
   ],
   "source": [
    "# Finally we put everything together here:\n",
    "def recommend(item_id, num):\n",
    "    print(\"Recommending \" + str(num) + \" products similar to \" + item(item_id) + \"...\")   \n",
    "    print(\"-------\")    \n",
    "    recs = results[get_idx(item_id)][:num]   \n",
    "    for rec in recs: \n",
    "        print(\"\\tRecommended: \" + item(rec[1]) + \" (score:\" +      str(rec[0]) + \")\")"
   ]
  },
  {
   "cell_type": "code",
   "execution_count": 18,
   "metadata": {},
   "outputs": [
    {
     "data": {
      "text/html": [
       "<div>\n",
       "<style scoped>\n",
       "    .dataframe tbody tr th:only-of-type {\n",
       "        vertical-align: middle;\n",
       "    }\n",
       "\n",
       "    .dataframe tbody tr th {\n",
       "        vertical-align: top;\n",
       "    }\n",
       "\n",
       "    .dataframe thead th {\n",
       "        text-align: right;\n",
       "    }\n",
       "</style>\n",
       "<table border=\"1\" class=\"dataframe\">\n",
       "  <thead>\n",
       "    <tr style=\"text-align: right;\">\n",
       "      <th></th>\n",
       "      <th>book_id</th>\n",
       "      <th>user_id</th>\n",
       "      <th>rating</th>\n",
       "    </tr>\n",
       "  </thead>\n",
       "  <tbody>\n",
       "    <tr>\n",
       "      <th>758792</th>\n",
       "      <td>7644</td>\n",
       "      <td>25278</td>\n",
       "      <td>5</td>\n",
       "    </tr>\n",
       "    <tr>\n",
       "      <th>953484</th>\n",
       "      <td>9693</td>\n",
       "      <td>22902</td>\n",
       "      <td>4</td>\n",
       "    </tr>\n",
       "    <tr>\n",
       "      <th>58538</th>\n",
       "      <td>586</td>\n",
       "      <td>13000</td>\n",
       "      <td>4</td>\n",
       "    </tr>\n",
       "    <tr>\n",
       "      <th>752743</th>\n",
       "      <td>7582</td>\n",
       "      <td>28653</td>\n",
       "      <td>3</td>\n",
       "    </tr>\n",
       "    <tr>\n",
       "      <th>400689</th>\n",
       "      <td>4013</td>\n",
       "      <td>10724</td>\n",
       "      <td>1</td>\n",
       "    </tr>\n",
       "  </tbody>\n",
       "</table>\n",
       "</div>"
      ],
      "text/plain": [
       "        book_id  user_id  rating\n",
       "758792     7644    25278       5\n",
       "953484     9693    22902       4\n",
       "58538       586    13000       4\n",
       "752743     7582    28653       3\n",
       "400689     4013    10724       1"
      ]
     },
     "execution_count": 18,
     "metadata": {},
     "output_type": "execute_result"
    },
    {
     "name": "stdout",
     "output_type": "stream",
     "text": [
      "time: 1.99 ms (started: 2022-11-12 01:44:20 +05:30)\n"
     ]
    }
   ],
   "source": [
    "df_ratings_100k.head()"
   ]
  },
  {
   "cell_type": "code",
   "execution_count": 19,
   "metadata": {},
   "outputs": [
    {
     "data": {
      "text/html": [
       "<div>\n",
       "<style scoped>\n",
       "    .dataframe tbody tr th:only-of-type {\n",
       "        vertical-align: middle;\n",
       "    }\n",
       "\n",
       "    .dataframe tbody tr th {\n",
       "        vertical-align: top;\n",
       "    }\n",
       "\n",
       "    .dataframe thead th {\n",
       "        text-align: right;\n",
       "    }\n",
       "</style>\n",
       "<table border=\"1\" class=\"dataframe\">\n",
       "  <thead>\n",
       "    <tr style=\"text-align: right;\">\n",
       "      <th></th>\n",
       "      <th>id</th>\n",
       "      <th>book_id</th>\n",
       "      <th>best_book_id</th>\n",
       "      <th>work_id</th>\n",
       "      <th>books_count</th>\n",
       "      <th>isbn</th>\n",
       "      <th>isbn13</th>\n",
       "      <th>authors</th>\n",
       "      <th>original_publication_year</th>\n",
       "      <th>original_title</th>\n",
       "      <th>...</th>\n",
       "      <th>ratings_count</th>\n",
       "      <th>work_ratings_count</th>\n",
       "      <th>work_text_reviews_count</th>\n",
       "      <th>ratings_1</th>\n",
       "      <th>ratings_2</th>\n",
       "      <th>ratings_3</th>\n",
       "      <th>ratings_4</th>\n",
       "      <th>ratings_5</th>\n",
       "      <th>image_url</th>\n",
       "      <th>small_image_url</th>\n",
       "    </tr>\n",
       "  </thead>\n",
       "  <tbody>\n",
       "    <tr>\n",
       "      <th>0</th>\n",
       "      <td>5287</td>\n",
       "      <td>47956</td>\n",
       "      <td>47956</td>\n",
       "      <td>353853</td>\n",
       "      <td>25</td>\n",
       "      <td>451456718</td>\n",
       "      <td>9.780451e+12</td>\n",
       "      <td>Anne Bishop</td>\n",
       "      <td>1998.0</td>\n",
       "      <td>Daughter of the Blood</td>\n",
       "      <td>...</td>\n",
       "      <td>25432</td>\n",
       "      <td>28102</td>\n",
       "      <td>1656</td>\n",
       "      <td>958</td>\n",
       "      <td>1490</td>\n",
       "      <td>4128</td>\n",
       "      <td>8035</td>\n",
       "      <td>13491</td>\n",
       "      <td>https://images.gr-assets.com/books/1400569100m...</td>\n",
       "      <td>https://images.gr-assets.com/books/1400569100s...</td>\n",
       "    </tr>\n",
       "    <tr>\n",
       "      <th>1</th>\n",
       "      <td>4649</td>\n",
       "      <td>99296</td>\n",
       "      <td>99296</td>\n",
       "      <td>301388</td>\n",
       "      <td>16</td>\n",
       "      <td>006000150X</td>\n",
       "      <td>9.780060e+12</td>\n",
       "      <td>Doreen Cronin, Harry Bliss</td>\n",
       "      <td>1996.0</td>\n",
       "      <td>Diary of a Worm</td>\n",
       "      <td>...</td>\n",
       "      <td>23320</td>\n",
       "      <td>23423</td>\n",
       "      <td>691</td>\n",
       "      <td>322</td>\n",
       "      <td>987</td>\n",
       "      <td>4006</td>\n",
       "      <td>6599</td>\n",
       "      <td>11509</td>\n",
       "      <td>https://s.gr-assets.com/assets/nophoto/book/11...</td>\n",
       "      <td>https://s.gr-assets.com/assets/nophoto/book/50...</td>\n",
       "    </tr>\n",
       "    <tr>\n",
       "      <th>2</th>\n",
       "      <td>4281</td>\n",
       "      <td>6758331</td>\n",
       "      <td>6758331</td>\n",
       "      <td>6954915</td>\n",
       "      <td>41</td>\n",
       "      <td>778303764</td>\n",
       "      <td>9.780778e+12</td>\n",
       "      <td>Gena Showalter</td>\n",
       "      <td>2010.0</td>\n",
       "      <td>The Darkest Passion (Lords of the Underworld, #5)</td>\n",
       "      <td>...</td>\n",
       "      <td>32610</td>\n",
       "      <td>34290</td>\n",
       "      <td>1155</td>\n",
       "      <td>168</td>\n",
       "      <td>623</td>\n",
       "      <td>4157</td>\n",
       "      <td>10738</td>\n",
       "      <td>18604</td>\n",
       "      <td>https://images.gr-assets.com/books/1351278057m...</td>\n",
       "      <td>https://images.gr-assets.com/books/1351278057s...</td>\n",
       "    </tr>\n",
       "    <tr>\n",
       "      <th>3</th>\n",
       "      <td>3755</td>\n",
       "      <td>114230</td>\n",
       "      <td>114230</td>\n",
       "      <td>15956900</td>\n",
       "      <td>431</td>\n",
       "      <td>974607800</td>\n",
       "      <td>9.780975e+12</td>\n",
       "      <td>Herman Melville</td>\n",
       "      <td>1853.0</td>\n",
       "      <td>Bartleby, the Scrivener: A Story of Wall Street</td>\n",
       "      <td>...</td>\n",
       "      <td>26265</td>\n",
       "      <td>31730</td>\n",
       "      <td>1915</td>\n",
       "      <td>710</td>\n",
       "      <td>2028</td>\n",
       "      <td>7207</td>\n",
       "      <td>11693</td>\n",
       "      <td>10092</td>\n",
       "      <td>https://images.gr-assets.com/books/1320404048m...</td>\n",
       "      <td>https://images.gr-assets.com/books/1320404048s...</td>\n",
       "    </tr>\n",
       "    <tr>\n",
       "      <th>4</th>\n",
       "      <td>6544</td>\n",
       "      <td>2897258</td>\n",
       "      <td>2897258</td>\n",
       "      <td>2923667</td>\n",
       "      <td>33</td>\n",
       "      <td>307381757</td>\n",
       "      <td>9.780307e+12</td>\n",
       "      <td>Michelle Moran</td>\n",
       "      <td>2008.0</td>\n",
       "      <td>The Heretic Queen</td>\n",
       "      <td>...</td>\n",
       "      <td>16155</td>\n",
       "      <td>18301</td>\n",
       "      <td>1442</td>\n",
       "      <td>144</td>\n",
       "      <td>428</td>\n",
       "      <td>2816</td>\n",
       "      <td>6916</td>\n",
       "      <td>7997</td>\n",
       "      <td>https://images.gr-assets.com/books/1422755729m...</td>\n",
       "      <td>https://images.gr-assets.com/books/1422755729s...</td>\n",
       "    </tr>\n",
       "  </tbody>\n",
       "</table>\n",
       "<p>5 rows × 23 columns</p>\n",
       "</div>"
      ],
      "text/plain": [
       "     id  book_id  best_book_id   work_id  books_count        isbn  \\\n",
       "0  5287    47956         47956    353853           25   451456718   \n",
       "1  4649    99296         99296    301388           16  006000150X   \n",
       "2  4281  6758331       6758331   6954915           41   778303764   \n",
       "3  3755   114230        114230  15956900          431   974607800   \n",
       "4  6544  2897258       2897258   2923667           33   307381757   \n",
       "\n",
       "         isbn13                     authors  original_publication_year  \\\n",
       "0  9.780451e+12                 Anne Bishop                     1998.0   \n",
       "1  9.780060e+12  Doreen Cronin, Harry Bliss                     1996.0   \n",
       "2  9.780778e+12              Gena Showalter                     2010.0   \n",
       "3  9.780975e+12             Herman Melville                     1853.0   \n",
       "4  9.780307e+12              Michelle Moran                     2008.0   \n",
       "\n",
       "                                      original_title  ... ratings_count  \\\n",
       "0                              Daughter of the Blood  ...         25432   \n",
       "1                                    Diary of a Worm  ...         23320   \n",
       "2  The Darkest Passion (Lords of the Underworld, #5)  ...         32610   \n",
       "3    Bartleby, the Scrivener: A Story of Wall Street  ...         26265   \n",
       "4                                  The Heretic Queen  ...         16155   \n",
       "\n",
       "  work_ratings_count  work_text_reviews_count  ratings_1  ratings_2  \\\n",
       "0              28102                     1656        958       1490   \n",
       "1              23423                      691        322        987   \n",
       "2              34290                     1155        168        623   \n",
       "3              31730                     1915        710       2028   \n",
       "4              18301                     1442        144        428   \n",
       "\n",
       "   ratings_3  ratings_4  ratings_5  \\\n",
       "0       4128       8035      13491   \n",
       "1       4006       6599      11509   \n",
       "2       4157      10738      18604   \n",
       "3       7207      11693      10092   \n",
       "4       2816       6916       7997   \n",
       "\n",
       "                                           image_url  \\\n",
       "0  https://images.gr-assets.com/books/1400569100m...   \n",
       "1  https://s.gr-assets.com/assets/nophoto/book/11...   \n",
       "2  https://images.gr-assets.com/books/1351278057m...   \n",
       "3  https://images.gr-assets.com/books/1320404048m...   \n",
       "4  https://images.gr-assets.com/books/1422755729m...   \n",
       "\n",
       "                                     small_image_url  \n",
       "0  https://images.gr-assets.com/books/1400569100s...  \n",
       "1  https://s.gr-assets.com/assets/nophoto/book/50...  \n",
       "2  https://images.gr-assets.com/books/1351278057s...  \n",
       "3  https://images.gr-assets.com/books/1320404048s...  \n",
       "4  https://images.gr-assets.com/books/1422755729s...  \n",
       "\n",
       "[5 rows x 23 columns]"
      ]
     },
     "execution_count": 19,
     "metadata": {},
     "output_type": "execute_result"
    },
    {
     "name": "stdout",
     "output_type": "stream",
     "text": [
      "time: 4.99 ms (started: 2022-11-12 01:44:20 +05:30)\n"
     ]
    }
   ],
   "source": [
    "df_books_1000.head()"
   ]
  },
  {
   "cell_type": "markdown",
   "metadata": {
    "id": "ruDiCPsDTDbr"
   },
   "source": [
    "Suppose a user wants the 10 most 'similar' (from a CBF point of view) movies from the movie 'Alley Cats Strike':"
   ]
  },
  {
   "cell_type": "code",
   "execution_count": 20,
   "metadata": {
    "id": "9oH_oVvmTDbr",
    "outputId": "bf915e8b-ae84-49bc-f80c-e09b64aa953d"
   },
   "outputs": [
    {
     "name": "stdout",
     "output_type": "stream",
     "text": [
      "Recommending 10 products similar to The Mermaid Chair...\n",
      "-------\n",
      "\tRecommended: The Dragonbone Chair (score:0.3071703642268616)\n",
      "\tRecommended: Sacré Bleu: A Comedy d'Art (score:0.0)\n",
      "\tRecommended: Sea Glass (score:0.0)\n",
      "\tRecommended: Ash (score:0.0)\n",
      "\tRecommended: Revelation Space (score:0.0)\n",
      "\tRecommended: On the Genealogy of Morals / Ecce Homo (score:0.0)\n",
      "\tRecommended: The Shell Seekers (score:0.0)\n",
      "\tRecommended: Ghost Wars: The Secret History of the CIA, Afghanistan, and Bin Laden, from the Soviet Invasion to September 10, 2001 (score:0.0)\n",
      "\tRecommended: In Cold Blood (score:0.0)\n",
      "\tRecommended: Sunset Express (score:0.0)\n",
      "time: 2.75 ms (started: 2022-11-12 01:44:20 +05:30)\n"
     ]
    }
   ],
   "source": [
    "random_item_id = random.choice(df_books_1000[\"book_id\"].tolist())\n",
    "recommend(item_id=random_item_id, num=10)"
   ]
  }
 ],
 "metadata": {
  "colab": {
   "collapsed_sections": [],
   "name": "1_Demo.ipynb",
   "provenance": []
  },
  "kernelspec": {
   "display_name": "Python 3 (ipykernel)",
   "language": "python",
   "name": "python3"
  },
  "language_info": {
   "codemirror_mode": {
    "name": "ipython",
    "version": 3
   },
   "file_extension": ".py",
   "mimetype": "text/x-python",
   "name": "python",
   "nbconvert_exporter": "python",
   "pygments_lexer": "ipython3",
   "version": "3.10.6"
  }
 },
 "nbformat": 4,
 "nbformat_minor": 1
}
